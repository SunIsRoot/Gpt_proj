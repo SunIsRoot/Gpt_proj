{
 "cells": [
  {
   "cell_type": "code",
   "execution_count": 7,
   "metadata": {},
   "outputs": [],
   "source": [
    "from langchain.chat_models import ChatOpenAI\n",
    "from langchain.prompts.few_shot import FewShotPromptTemplate\n",
    "from langchain.prompts.prompt import PromptTemplate\n",
    "from langchain.memory import ConversationBufferWindowMemory\n",
    "from langchain.schema.runnable import RunnablePassthrough\n",
    "\n",
    "llm = ChatOpenAI(temperature=0.1)\n",
    "\n",
    "memory = ConversationBufferWindowMemory(\n",
    "    llm=llm,\n",
    "    return_message=True,\n",
    "    k=2,\n",
    ")\n",
    "\n",
    "def add_message(request, answer):\n",
    "    memory.save_context({\"request\": request}, {\"answer\": answer})\n",
    "\n",
    "add_message(\n",
    "    \"I want the Titanic to be represented with 3 emojis\",\n",
    "    \"Titanic -> 👩‍❤️‍👨🛳️☠️\"\n",
    ")\n",
    "add_message(\n",
    "    \"I want the Harbin to be represented with 3 emojis\",\n",
    "    \"Harbin -> 🚊🗾🔫\"\n",
    ")\n",
    "add_message(\n",
    "    \"I want the 용감한 시민 to be represented with 3 emojis\",\n",
    "    \"용감한 시민 -> 👩‍🏫👊🙇\"\n",
    ")\n",
    "\n",
    "example_prompt = PromptTemplate.from_template(\"Human: {input}\\nAI: {output}\")\n",
    "\n",
    "def memory_to_examples():\n",
    "    examples = []\n",
    "    for message in memory.chat_memory.messages:\n",
    "        if message.type == \"human\":\n",
    "            input = message.content\n",
    "        elif message.type == \"ai\":\n",
    "            output = message.content\n",
    "            examples.append({\"input\": input, \"output\": output})\n",
    "    return examples\n",
    "\n",
    "prompt = FewShotPromptTemplate(\n",
    "    example_prompt=example_prompt,\n",
    "    examples=memory_to_examples(),\n",
    "    suffix=\"Human: I want the {moviename} to be represented with 3 emojis\",\n",
    "    input_variables=[\"moviename\"]\n",
    ")\n",
    "\n",
    "chain = RunnablePassthrough.assign(history=memory.load_memory_variables) | prompt | llm\n",
    "\n",
    "def answer_question(question):\n",
    "    result = chain.invoke({\"moviename\": question})\n",
    "    add_message(question, result.content)\n",
    "    print(result.content)\n",
    "\n",
    "\n"
   ]
  },
  {
   "cell_type": "code",
   "execution_count": 8,
   "metadata": {},
   "outputs": [
    {
     "name": "stdout",
     "output_type": "stream",
     "text": [
      "AI: Frozen -> ❄️👸⛄\n"
     ]
    }
   ],
   "source": [
    "answer_question(\"Frozen\")"
   ]
  },
  {
   "cell_type": "code",
   "execution_count": 9,
   "metadata": {},
   "outputs": [
    {
     "name": "stdout",
     "output_type": "stream",
     "text": [
      "AI: Your name -> 👫🌌📝\n"
     ]
    }
   ],
   "source": [
    "answer_question(\"Your name\")"
   ]
  },
  {
   "cell_type": "code",
   "execution_count": 12,
   "metadata": {},
   "outputs": [
    {
     "data": {
      "text/plain": [
       "('history',\n",
       " 'Human: Frozen\\nAI: AI: Frozen -> ❄️👸⛄\\nHuman: Your name\\nAI: AI: Your name -> 👫🌌📝')"
      ]
     },
     "execution_count": 12,
     "metadata": {},
     "output_type": "execute_result"
    }
   ],
   "source": [
    "list(memory.load_memory_variables({}).items())[0]\n",
    "#메모리 잘 저장되었나 확인\n",
    "#window 크기를 2로 지정하고 2개의 새 입력을 만든 후\n",
    "#첫번째 입력을 출력했을 때 기존에 입력되어 있던 예시는 사라지고\n",
    "#첫번째 입력했던 값이 출력되었으므로 메모리로 관리된 데이터가 사용되고 있음을 알 수 있다.."
   ]
  }
 ],
 "metadata": {
  "kernelspec": {
   "display_name": "env",
   "language": "python",
   "name": "python3"
  },
  "language_info": {
   "codemirror_mode": {
    "name": "ipython",
    "version": 3
   },
   "file_extension": ".py",
   "mimetype": "text/x-python",
   "name": "python",
   "nbconvert_exporter": "python",
   "pygments_lexer": "ipython3",
   "version": "3.11.9"
  }
 },
 "nbformat": 4,
 "nbformat_minor": 2
}
