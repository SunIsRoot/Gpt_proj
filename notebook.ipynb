{
 "cells": [
  {
   "cell_type": "code",
   "execution_count": null,
   "metadata": {},
   "outputs": [
    {
     "data": {
      "text/plain": [
       "AIMessage(content=\"Theme: The poem celebrates the beauty and elegance of the Python programming language. It highlights the importance of whitespace and indentation in Python coding, as well as the simplicity and power of Python syntax. The poet expresses admiration for Python's versatility in various fields like web development and data science, emphasizing the abundance of libraries available for exploration.\\n\\nMerits: The poem effectively captures the essence of Python as a programming language known for its readability, versatility, and efficiency. The use of poetic language and imagery to describe coding concepts adds a creative and engaging touch to the ode to Python.\\n\\nEvaluation: 5.0\")"
      ]
     },
     "execution_count": 12,
     "metadata": {},
     "output_type": "execute_result"
    }
   ],
   "source": [
    "from langchain.chat_models import ChatOpenAI\n",
    "from langchain.prompts import ChatPromptTemplate\n",
    "\n",
    "chat = ChatOpenAI(temperature=0.1, model_name=\"gpt-3.5-turbo-0125\")\n",
    "\n",
    "poet_prompt = ChatPromptTemplate.from_messages([\n",
    "    (\"system\", \"You are the best poet in the world who writes poetry about programming languages. You write poetry by taking advantage of the strengths of any programming language given to you.\"),\n",
    "    (\"human\", \"I want to write {programminglanguage} poetry.\"),\n",
    "])\n",
    "\n",
    "poet_chain = poet_prompt | chat \n",
    "\n",
    "reviewer_prompt = ChatPromptTemplate.from_messages([\n",
    "    (\"system\", \"You are the best poetry reviewer in the world who interprets poetry about programming languages. When you receive a poem, you summarize the overall theme of the poem and the merits mentioned in the poem, and finally tell me your evaluation rating for the poem (unit: 0.5, minimum 0.0, maximum 5.0).\"),\n",
    "    (\"human\",\"{interpretations}\")\n",
    "])\n",
    "\n",
    "reviewer_chain = reviewer_prompt | chat\n",
    "\n",
    "# final_chain = {\"interpretations\": poet_chain} | reviewer_chain\n",
    "# final_chain.invoke({\n",
    "#             \"programminglanguage\" : \"Python\",\n",
    "# })\n",
    "\n",
    "poetry = poet_chain.invoke({\n",
    "        \"programminglanguage\" : \"Python\",\n",
    "})\n",
    "\n",
    "\n",
    "review = reviewer_chain.invoke({\n",
    "    \"interpretations\" : poetry\n",
    "\n",
    "})\n",
    "\n",
    "poetry, review\n",
    "\n",
    "\n"
   ]
  }
 ],
 "metadata": {
  "kernelspec": {
   "display_name": "env",
   "language": "python",
   "name": "python3"
  },
  "language_info": {
   "codemirror_mode": {
    "name": "ipython",
    "version": 3
   },
   "file_extension": ".py",
   "mimetype": "text/x-python",
   "name": "python",
   "nbconvert_exporter": "python",
   "pygments_lexer": "ipython3",
   "version": "3.11.9"
  }
 },
 "nbformat": 4,
 "nbformat_minor": 2
}
