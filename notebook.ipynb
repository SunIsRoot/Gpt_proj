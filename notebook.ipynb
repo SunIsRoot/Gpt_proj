{
 "cells": [
  {
   "cell_type": "code",
   "execution_count": 1,
   "metadata": {},
   "outputs": [
    {
     "name": "stderr",
     "output_type": "stream",
     "text": [
      "USER_AGENT environment variable not set, consider setting it to identify your requests.\n",
      "C:\\Users\\lesun\\AppData\\Local\\Temp\\ipykernel_22124\\2509221162.py:8: LangChainDeprecationWarning: The class `ChatOpenAI` was deprecated in LangChain 0.0.10 and will be removed in 1.0. An updated version of the class exists in the :class:`~langchain-openai package and should be used instead. To use it run `pip install -U :class:`~langchain-openai` and import as `from :class:`~langchain_openai import ChatOpenAI``.\n",
      "  llm = ChatOpenAI(temperature=0, model_name=\"gpt-4-1106-preview\")\n"
     ]
    }
   ],
   "source": [
    "from langchain.tools import Tool\n",
    "from langchain.agents import initialize_agent, AgentType\n",
    "from langchain.chat_models import ChatOpenAI\n",
    "from langchain.utilities import WikipediaAPIWrapper, DuckDuckGoSearchAPIWrapper\n",
    "from langchain.document_loaders import WebBaseLoader\n",
    "import os\n",
    "\n",
    "llm = ChatOpenAI(temperature=0, model_name=\"gpt-4-1106-preview\")\n",
    "\n",
    "def search_tool_wrapper(search_function):\n",
    "    def tool(query):\n",
    "        return search_function(query)\n",
    "    return tool\n",
    "\n",
    "def search_wikipedia(query):\n",
    "    wikipedia = WikipediaAPIWrapper()\n",
    "    return wikipedia.run(query)\n",
    "\n",
    "wikipedia_tool = Tool(\n",
    "    name=\"WikipediaSearch\",\n",
    "    func=search_tool_wrapper(search_wikipedia),\n",
    "    description=\"Search Wikipedia for relevant information about a given topic\"\n",
    ")\n",
    "\n",
    "def search_duckduckgo(query):\n",
    "    duckduckgo = DuckDuckGoSearchAPIWrapper()\n",
    "    return duckduckgo.run(query)\n",
    "\n",
    "duckduckgo_tool = Tool(\n",
    "    name=\"DuckDuckGoSearch\",\n",
    "    func=search_tool_wrapper(search_duckduckgo),\n",
    "    description=\"Search DuckDuckGo for web links related to a given topic\"\n",
    ")\n",
    "\n",
    "def scrape_website(url):\n",
    "    loader = WebBaseLoader(url)\n",
    "    docs = loader.load()\n",
    "    return \"\\n\".join([doc.page_content for doc in docs])\n",
    "\n",
    "scraper_tool = Tool(\n",
    "    name=\"WebScraper\",\n",
    "    func=scrape_website,\n",
    "    description=\"Scrape content from a given website URL\"\n",
    ")\n",
    "\n",
    "def save_to_file(content):\n",
    "    directory = os.path.dirname(\"./research_results.txt\")\n",
    "    if directory and not os.path.exists(directory):\n",
    "        os.makedirs(directory)\n",
    "    with open(\"./research_results.txt\", \"w\", encoding=\"utf-8\") as file:\n",
    "        file.write(content)\n",
    "    return \"Results saved to research_results.txt\"\n",
    "\n",
    "save_tool = Tool(\n",
    "    name=\"SaveResults\",\n",
    "    func=save_to_file,\n",
    "    description=\"Scrape content saved to research_results.txt\"\n",
    ")\n",
    "\n",
    "def create_research_agent():\n",
    "    agent = initialize_agent(\n",
    "        llm=llm,\n",
    "        verbose=True,\n",
    "        agent=AgentType.OPENAI_FUNCTIONS,\n",
    "        handle_parsing_errors=True,  \n",
    "        tools=[wikipedia_tool, duckduckgo_tool, scraper_tool, save_tool],\n",
    "    )\n",
    "    return agent\n"
   ]
  },
  {
   "cell_type": "code",
   "execution_count": 4,
   "metadata": {},
   "outputs": [
    {
     "name": "stdout",
     "output_type": "stream",
     "text": [
      "\n",
      "\n",
      "\u001b[1m> Entering new AgentExecutor chain...\u001b[0m\n",
      "\u001b[32;1m\u001b[1;3m\n",
      "Invoking: `WikipediaSearch` with `XZ backdoor`\n",
      "\n",
      "\n",
      "\u001b[0m\u001b[36;1m\u001b[1;3mPage: XZ Utils backdoor\n",
      "Summary: In February 2024, a malicious backdoor was introduced to the Linux build of the xz utility within the liblzma library in versions 5.6.0 and 5.6.1 by an account using the name \"Jia Tan\". The backdoor gives an attacker who possesses a specific Ed448 private key remote code execution capabilities on the affected Linux system. The issue has been given the Common Vulnerabilities and Exposures number CVE-2024-3094 and has been assigned a CVSS score of 10.0, the highest possible score.\n",
      "While xz is commonly present in most Linux distributions, at the time of discovery the backdoored version had not yet been widely deployed to production systems, but was present in development versions of major distributions. The backdoor was discovered by the software developer Andres Freund, who announced his findings on 29 March 2024.\n",
      "\n",
      "Page: XZ Utils\n",
      "Summary: XZ Utils (previously LZMA Utils) is a set of free software command-line lossless data compressors, including the programs lzma and xz, for Unix-like operating systems and, from version 5.0 onwards, Microsoft Windows. For compression/decompression the Lempel–Ziv–Markov chain algorithm (LZMA) is used. XZ Utils started as a Unix port of Igor Pavlov's LZMA-SDK that has been adapted to fit seamlessly into Unix environments and their usual structure and behavior.\n",
      "\n",
      "Page: Backdoor (computing)\n",
      "Summary: A backdoor is a typically covert method of bypassing normal authentication or encryption in a computer, product, embedded device (e.g. a home router), or its embodiment (e.g. part of a cryptosystem, algorithm, chipset, or even a \"homunculus computer\"—a tiny computer-within-a-computer such as that found in Intel's AMT technology). Backdoors are most often used for securing remote access to a computer, or obtaining access to plaintext in cryptosystems. From there it may be used to gain access to privileged information like passwords, corrupt or delete data on hard drives, or transfer information within autoschediastic networks.\n",
      "In the United States, the 1994 Communications Assistance for Law Enforcement Act forces internet providers to provide backdoors for government authorities.  In 2024, the U.S. government realized that China had been tapping communications in the U.S. using that infrastructure for months, or perhaps longer; China recorded presidential candidate campaign office phone calls —including employees of the then-vice president of the nation– and of the candidates themselves.\n",
      "A backdoor may take the form of a hidden part of a program, a separate program (e.g. Back Orifice may subvert the system through a rootkit), code in the firmware of the hardware, or parts of an operating system such as Windows. Trojan horses can be used to create vulnerabilities in a device. A Trojan horse may appear to be an entirely legitimate program, but when executed, it triggers an activity that may install a backdoor. Although some are secretly installed, other backdoors are deliberate and widely known. These kinds of backdoors have \"legitimate\" uses such as providing the manufacturer with a way to restore user passwords.\n",
      "Many systems that store information within the cloud fail to create accurate security measures. If many systems are connected within the cloud, hackers can gain access to all other platforms through the most vulnerable system. Default passwords (or other default credentials) can function as backdoors if they are not changed by the user. Some debugging features can also act as backdoors if they are not removed in the release version. In 1993, the United States government attempted to deploy an encryption system, the Clipper chip, with an explicit backdoor for law enforcement and national security access. The chip was unsuccessful.\n",
      "Recent proposals to counter backdoors include creating a database of backdoors' triggers and then using neural networks to detect them.\u001b[0m\u001b[32;1m\u001b[1;3mIn February 2024, a significant security incident was reported involving a backdoor in the XZ Utils, specifically within the liblzma library. This backdoor was introduced in versions 5.6.0 and 5.6.1 of the xz utility for Linux systems. The malicious code was added by an account under the name \"Jia Tan\" and was designed to allow an attacker with a specific Ed448 private key to execute remote code on the compromised Linux system. This vulnerability was assigned the identifier CVE-2024-3094 and received the highest severity rating of 10.0 on the Common Vulnerability Scoring System (CVSS).\n",
      "\n",
      "The xz utility is a common component in most Linux distributions, used for lossless data compression with the Lempel–Ziv–Markov chain algorithm (LZMA). Although the backdoored version had not been widely deployed to production systems at the time of discovery, it was present in development versions of major distributions. The backdoor was uncovered by software developer Andres Freund, who made his findings public on March 29, 2024.\n",
      "\n",
      "A backdoor in computing is a method that bypasses normal authentication or encryption to gain unauthorized access to a system or data. Backdoors can be used for various purposes, such as securing remote access to a computer, obtaining privileged information, corrupting or deleting data, or transferring information within networks. They can be part of a program, firmware, operating system, or introduced through a Trojan horse.\n",
      "\n",
      "The discovery of the XZ backdoor highlights the ongoing challenges in software security and the importance of vigilance in the development and maintenance of open-source software. It also underscores the potential impact of such vulnerabilities, given the widespread use of affected utilities in various systems.\u001b[0m\n",
      "\n",
      "\u001b[1m> Finished chain.\u001b[0m\n",
      "In February 2024, a significant security incident was reported involving a backdoor in the XZ Utils, specifically within the liblzma library. This backdoor was introduced in versions 5.6.0 and 5.6.1 of the xz utility for Linux systems. The malicious code was added by an account under the name \"Jia Tan\" and was designed to allow an attacker with a specific Ed448 private key to execute remote code on the compromised Linux system. This vulnerability was assigned the identifier CVE-2024-3094 and received the highest severity rating of 10.0 on the Common Vulnerability Scoring System (CVSS).\n",
      "\n",
      "The xz utility is a common component in most Linux distributions, used for lossless data compression with the Lempel–Ziv–Markov chain algorithm (LZMA). Although the backdoored version had not been widely deployed to production systems at the time of discovery, it was present in development versions of major distributions. The backdoor was uncovered by software developer Andres Freund, who made his findings public on March 29, 2024.\n",
      "\n",
      "A backdoor in computing is a method that bypasses normal authentication or encryption to gain unauthorized access to a system or data. Backdoors can be used for various purposes, such as securing remote access to a computer, obtaining privileged information, corrupting or deleting data, or transferring information within networks. They can be part of a program, firmware, operating system, or introduced through a Trojan horse.\n",
      "\n",
      "The discovery of the XZ backdoor highlights the ongoing challenges in software security and the importance of vigilance in the development and maintenance of open-source software. It also underscores the potential impact of such vulnerabilities, given the widespread use of affected utilities in various systems.\n"
     ]
    }
   ],
   "source": [
    "agent = create_research_agent()\n",
    "response = agent.run(\"Research about the XZ backdoor\")\n",
    "save_to_file(response)\n",
    "print(response)\n"
   ]
  },
  {
   "cell_type": "code",
   "execution_count": 5,
   "metadata": {},
   "outputs": [
    {
     "name": "stdout",
     "output_type": "stream",
     "text": [
      "파일이 존재합니다.\n"
     ]
    }
   ],
   "source": [
    "if os.path.exists(\"./research_results.txt\"):\n",
    "    print(\"파일이 존재합니다.\")\n",
    "else:\n",
    "    print(\"파일이 존재하지 않습니다. 먼저 데이터를 저장하세요.\")"
   ]
  }
 ],
 "metadata": {
  "kernelspec": {
   "display_name": "env",
   "language": "python",
   "name": "python3"
  },
  "language_info": {
   "codemirror_mode": {
    "name": "ipython",
    "version": 3
   },
   "file_extension": ".py",
   "mimetype": "text/x-python",
   "name": "python",
   "nbconvert_exporter": "python",
   "pygments_lexer": "ipython3",
   "version": "3.11.9"
  }
 },
 "nbformat": 4,
 "nbformat_minor": 2
}
