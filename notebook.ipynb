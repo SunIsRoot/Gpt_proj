{
 "cells": [
  {
   "cell_type": "code",
   "execution_count": 7,
   "metadata": {},
   "outputs": [
    {
     "name": "stdout",
     "output_type": "stream",
     "text": [
      "AI:\n",
      "About the movie:\n",
      "\n",
      "Genre: Animation, Adventure, Comedy\n",
      "Directors: Chris Buck, Jennifer Lee\n",
      "Main Casts: Elsa, Anna, Olaf, Kristoff\n",
      "Budget: $150 million\n",
      "Box Office Gross: $1.28 billion\n",
      "Synopsis: Frozen follows the story of two sisters, Elsa and Anna, as Elsa struggles to control her magical ice powers and inadvertently plunges their kingdom into eternal winter. Anna sets out on a journey to find her sister and save their kingdom with the help of a rugged iceman, a comedic snowman, and a loyal reindeer."
     ]
    },
    {
     "data": {
      "text/plain": [
       "AIMessageChunk(content='AI:\\nAbout the movie:\\n\\nGenre: Animation, Adventure, Comedy\\nDirectors: Chris Buck, Jennifer Lee\\nMain Casts: Elsa, Anna, Olaf, Kristoff\\nBudget: $150 million\\nBox Office Gross: $1.28 billion\\nSynopsis: Frozen follows the story of two sisters, Elsa and Anna, as Elsa struggles to control her magical ice powers and inadvertently plunges their kingdom into eternal winter. Anna sets out on a journey to find her sister and save their kingdom with the help of a rugged iceman, a comedic snowman, and a loyal reindeer.')"
      ]
     },
     "execution_count": 7,
     "metadata": {},
     "output_type": "execute_result"
    }
   ],
   "source": [
    "from langchain.chat_models import ChatOpenAI\n",
    "from langchain.prompts import example_selector\n",
    "from langchain.prompts.few_shot import FewShotPromptTemplate\n",
    "from langchain.callbacks import StreamingStdOutCallbackHandler\n",
    "from langchain.prompts.prompt import PromptTemplate\n",
    "from langchain.prompts.example_selector.base import BaseExampleSelector\n",
    "\n",
    "\n",
    "chat = ChatOpenAI(\n",
    "    temperature=0.1,\n",
    "    streaming=True,\n",
    "    callbacks=[\n",
    "        StreamingStdOutCallbackHandler(),\n",
    "    ],\n",
    ")\n",
    "\n",
    "\n",
    "examples = [\n",
    "    {\n",
    "        \"request\": \"I want to know about Your Name movie.\",\n",
    "        \"answer\": \"\"\"\n",
    "About the movie:\n",
    "\n",
    "Genre: Animation, Fantasy, Romance\n",
    "Director: Makoto Shinkai \n",
    "main casts: Taki, Mitsuha\n",
    "budget: 750 million yen\n",
    "box office gross: 380 million dollars\n",
    "synopsis: Taki and Mitsuha, two high school students, mysteriously switch bodies and uncover a life-changing secret as their connection deepens.\n",
    "\"\"\",\n",
    "    },\n",
    "    {\n",
    "        \"request\": \"I want to know about Howl's Moving Castle movie.\",\n",
    "        \"answer\": \"\"\"\n",
    "About the movie:\n",
    "\n",
    "Genre: Animation, Fantasy, Romance\n",
    "Director: Hayao Miyazaki\n",
    "Main Casts: Sophie, Howl, Calcifer\n",
    "Budget: 2.4 billion yen\n",
    "Box Office Gross: 235 million dollars\n",
    "Synopsis: Sophie, cursed by a witch to become an old woman, seeks refuge in Howl’s magical moving castle and becomes entangled in his battle against dark forces.\n",
    "\"\"\",\n",
    "    },\n",
    "    {\n",
    "        \"request\": \"I want to know about Suzume no Tojimari movie.\",\n",
    "        \"answer\": \"\"\"\n",
    "About the movie:\n",
    "\n",
    "Genre: Animation, Fantasy, Drama\n",
    "Director: Makoto Shinkai\n",
    "Main Casts: Suzume, Sota\n",
    "Budget: 2 billion yen\n",
    "Box Office Gross: 250 million dollars\n",
    "Synopsis: Suzume, a young girl, embarks on a journey with a mysterious young man to close doors that are causing disasters across Japan.\n",
    "\"\"\",\n",
    "    },\n",
    "]\n",
    "\n",
    "\n",
    "class RandomExampleSelector(BaseExampleSelector):\n",
    "    def __init__(self, examples):\n",
    "        self.examples = examples\n",
    "\n",
    "    def add_example(self, example):\n",
    "        self.examples.append(example)\n",
    "\n",
    "    def select_examples(self, input_variables):\n",
    "        from random import choice\n",
    "\n",
    "        return [choice(self.examples)]\n",
    "\n",
    "\n",
    "example_prompt = PromptTemplate.from_template(\"Human: {request}\\n AI:{answer}\")\n",
    "\n",
    "example_selector = RandomExampleSelector(\n",
    "    examples=examples,\n",
    ")\n",
    "\n",
    "prompt = FewShotPromptTemplate(\n",
    "    example_prompt=example_prompt,\n",
    "    example_selector=example_selector,\n",
    "    suffix=\"Human: I want to know about {moviename} movie.\",\n",
    "    input_variables=[\"moviename\"],\n",
    ")\n",
    "\n",
    "chain = prompt | chat\n",
    "chain.invoke({\"moviename\": \"Frozen\"})"
   ]
  }
 ],
 "metadata": {
  "kernelspec": {
   "display_name": "env",
   "language": "python",
   "name": "python3"
  },
  "language_info": {
   "codemirror_mode": {
    "name": "ipython",
    "version": 3
   },
   "file_extension": ".py",
   "mimetype": "text/x-python",
   "name": "python",
   "nbconvert_exporter": "python",
   "pygments_lexer": "ipython3",
   "version": "3.11.9"
  }
 },
 "nbformat": 4,
 "nbformat_minor": 2
}
